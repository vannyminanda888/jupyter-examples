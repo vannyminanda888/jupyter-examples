{
  "nbformat": 4,
  "nbformat_minor": 0,
  "metadata": {
    "colab": {
      "name": "Rachel's Trip",
      "provenance": [],
      "collapsed_sections": [],
      "include_colab_link": true
    },
    "kernelspec": {
      "name": "python3",
      "display_name": "Python 3"
    },
    "language_info": {
      "name": "python"
    }
  },
  "cells": [
    {
      "cell_type": "markdown",
      "metadata": {
        "id": "view-in-github",
        "colab_type": "text"
      },
      "source": [
        "<a href=\"https://colab.research.google.com/github/vannyminanda888/jupyter-examples/blob/master/Rachel's_Trip.ipynb\" target=\"_parent\"><img src=\"https://colab.research.google.com/assets/colab-badge.svg\" alt=\"Open In Colab\"/></a>"
      ]
    },
    {
      "cell_type": "code",
      "execution_count": null,
      "metadata": {
        "id": "YEbeZ1fp9RN5"
      },
      "outputs": [],
      "source": [
        "# Function \\(O<O)/\n",
        "\n",
        "def AskNum(B = [], L = [], Q = 'Input a value below!') : # Input and filters so that ONLY numbers is outputted in the return slot\n",
        "  # B -> A list full of banned letters to restrict the number of strings possible and to prevent number values that might not be wanted\n",
        "  # L -> A list of two items, the first is the minumim length of the string. Second is the maximum length of the string\n",
        "  # Q -> A string used as the question for the input\n",
        "\n",
        "  OTN = [str(x) for x in range(10)] # Stores one to nine stringfied within a list\n",
        "  Hold = '' # Stores an input\n",
        "  LS = 0 # Counts the zeros that exist before a number that isn't zero or a letter(i guess...)\n",
        "\n",
        "  while True : # Repeatly ask an input until the return command is played\n",
        "    Hold = input(f'{Q}\\n> ') # Stores the input given\n",
        "\n",
        "    for x in Hold : # Loops for each letters within the variable Hold\n",
        "      if x == '0' : # If the letter is 0 then...\n",
        "        LS += 1 # Add one to the variable LS\n",
        "      else :\n",
        "        break\n",
        "    \n",
        "    Hold = Hold[LS:] # Cuts the Hold variable from the value of LS to the end of the string within the Hold variable\n",
        "    if '0S' in B and Hold == '': # If the word '0S' is in the banned list and Hold variable is empty then fill the Hold variable with 0 which if not banned then will return the answer as 0\n",
        "      Hold == '0'\n",
        "    elif Hold == '' :\n",
        "      print('\\033[0;32;1m The request permits the usage of 0 as an input to the question \\033[0;37;0m') # Reason of exception printed in bolded green\n",
        "    LS = 0 # Resets the LS for later use\n",
        "\n",
        "    if L == [] : # If empty then there's no limit for length\n",
        "      pass\n",
        "    elif (len(Hold) > L[1] and L[1] != -1) or len(Hold) < L[0] : # If the elif is fulfilled then the Hold variable contain a string that doesn't fit the description\n",
        "      print(f'\\033[0;32;1m Please insert a number within the expect length limit \\n\\t==> Minimum = {L[0]},\\n\\t--> Maximum = {L[1]}\\033[0;37;0m') # The reasonable size of the Input\n",
        "      Hold = '' # Empties the variable holding the inputted string\n",
        "\n",
        "    for x in range(len(Hold)) : # Loops for each letters within the variable Hold\n",
        "      if (Hold[x] in B or Hold in B) and not (Hold == '0' and 'OS' in B) : # Checks if the letter or the whole thing is within the banned list\n",
        "        print(f'\\033[0;32;1m Please insert a number that doesn\\'t contain these integers\\n\\t=> {B}\\033[0;37;0m') # Reason of exception printed in bolded green\n",
        "        Hold = ''\n",
        "        break\n",
        "\n",
        "      elif Hold[x] in OTN : # If the letter is not in banned and is in the OTN list \n",
        "        pass\n",
        "      \n",
        "      else :\n",
        "        print(f'\\033[0;32;1m Please insert ONLY numbers\\n\\tException => index {x} of {Hold}\\n\\t\\t  => {Hold[:x]} >({Hold[x]})< {Hold[x+1 :]}\\033[0;37;0m') # Reason of exception printed in bolded green\n",
        "        Hold = ''\n",
        "        break\n",
        "    \n",
        "    if Hold != '' :\n",
        "      return int(Hold) # Ensured to always be Integers"
      ]
    },
    {
      "cell_type": "code",
      "source": [
        "# Problem 1 :\n",
        "# Make a program that calculates the factorial of any number. Take the input from the user.\n",
        "\n",
        "Factorial_Total = '' # The result of the n! of the number inputted\n",
        "\n",
        "Factorial_Number = AskNum([], [],'Please input a number! and i will find it\\'s factorial') # Input and storing of the n from !n\n",
        "\n",
        "print(f'{Factorial_Number}! = ', end='') # Printing the factorial formula\n",
        "\n",
        "for x in range(1, Factorial_Number + 1) : # Loops starting from 1 until the Factorial_Number's value itself\n",
        "  if Factorial_Total == '' : # Ensures that later multiplication wont just be empty * number\n",
        "    Factorial_Total = x # Replaces the empty string with the first x\n",
        "\n",
        "  else :\n",
        "    Factorial_Total = Factorial_Total * x # Execute the multiplication one by one\n",
        "\n",
        "  if x == Factorial_Number : # Once the x is equal to the Factorial_Name then...\n",
        "    print(f'{x} = {Factorial_Total}') # Print the last of the multiplication and also the total or result of the Factorial\n",
        "\n",
        "  else :\n",
        "    print(x, end=' * ') # Else prints the x and a multiplication symbol to show the whole multiplication formula"
      ],
      "metadata": {
        "id": "Cz2Eup7wAp1K"
      },
      "execution_count": null,
      "outputs": []
    },
    {
      "cell_type": "code",
      "source": [
        "# Problem 2 :\n",
        "# Make a program that prints the first n Fibonacci numbers and finds the sum of the first 10 Fibonacci numbers.\n",
        "\n",
        "Fn = 1 # Current number of the Fibonacci sequence\n",
        "Nindex = 0 # N index or the index of the last number of sequence\n",
        "List_Fn = [0, 1] # This list consisting of every fibonacci numbers up to the last index\n",
        "Ten_Total = 0 # Total of the first ten fibonacci number\n",
        "\n",
        "print('n defines the very last Fibonacci step.\\nFor example, Fn = the nth Fibonacci Number. F3 = the 3rd Fibonacci Number') # Information\n",
        "Nindex = AskNum([], [2, -1], 'What will be your n number.') # Ask a number that's atleast 2 digits long\n",
        "print('Counting Fibonacci sequence with starting letters -> 1') # Confirmation of the starting of the fibonacci sequence\n",
        "\n",
        "for x in range(Nindex-1) : # Loops to find the (Nindex)th fibonacci number\n",
        "  Fn += List_Fn[len(List_Fn)-2] # Current number + Previous number to find the next number\n",
        "  List_Fn.append(Fn) # Appends the Result of the previous script to build a fibonacci sequence\n",
        "\n",
        "print(f'So the {Nindex}th Fibonacci numbers is => {Fn}\\n=> And also here\\'s a list of all the steps\\n   -> {List_Fn}') # Results containing the n fibonacci and the whole Fibonacci Sequence until the n fibonacci\n",
        "\n",
        "for x in range(11) : # Loops 11 times(because the fibonacci sequence starts at index 0) and adds up all the numbers from 0 - 10 to find the sum of the first 10 fibonacci numbers\n",
        "  Ten_Total += List_Fn[x] # Adding the numbers\n",
        "\n",
        "print(f'And this is the total of the first 10 Fibonacci numbers => {Ten_Total}') # Results"
      ],
      "metadata": {
        "id": "ufxoNbUAY7lR",
        "outputId": "e4a3b21c-81ca-4ec8-afd9-005f5a86f11c",
        "colab": {
          "base_uri": "https://localhost:8080/",
          "height": 269
        }
      },
      "execution_count": null,
      "outputs": [
        {
          "output_type": "stream",
          "name": "stdout",
          "text": [
            "n defines the very last Fibonacci step.\n",
            "For example, Fn = the nth Fibonacci Number. F3 = the 3rd Fibonacci Number\n"
          ]
        },
        {
          "output_type": "error",
          "ename": "NameError",
          "evalue": "ignored",
          "traceback": [
            "\u001b[0;31m---------------------------------------------------------------------------\u001b[0m",
            "\u001b[0;31mNameError\u001b[0m                                 Traceback (most recent call last)",
            "\u001b[0;32m<ipython-input-1-2b7c8cab3c64>\u001b[0m in \u001b[0;36m<module>\u001b[0;34m()\u001b[0m\n\u001b[1;32m      8\u001b[0m \u001b[0;34m\u001b[0m\u001b[0m\n\u001b[1;32m      9\u001b[0m \u001b[0mprint\u001b[0m\u001b[0;34m(\u001b[0m\u001b[0;34m'n defines the very last Fibonacci step.\\nFor example, Fn = the nth Fibonacci Number. F3 = the 3rd Fibonacci Number'\u001b[0m\u001b[0;34m)\u001b[0m \u001b[0;31m# Information\u001b[0m\u001b[0;34m\u001b[0m\u001b[0;34m\u001b[0m\u001b[0m\n\u001b[0;32m---> 10\u001b[0;31m \u001b[0mNindex\u001b[0m \u001b[0;34m=\u001b[0m \u001b[0mAskNum\u001b[0m\u001b[0;34m(\u001b[0m\u001b[0;34m[\u001b[0m\u001b[0;34m]\u001b[0m\u001b[0;34m,\u001b[0m \u001b[0;34m[\u001b[0m\u001b[0;36m2\u001b[0m\u001b[0;34m,\u001b[0m \u001b[0;34m-\u001b[0m\u001b[0;36m1\u001b[0m\u001b[0;34m]\u001b[0m\u001b[0;34m,\u001b[0m \u001b[0;34m'What will be your n number.'\u001b[0m\u001b[0;34m)\u001b[0m \u001b[0;31m# Ask a number that's atleast 2 digits long\u001b[0m\u001b[0;34m\u001b[0m\u001b[0;34m\u001b[0m\u001b[0m\n\u001b[0m\u001b[1;32m     11\u001b[0m \u001b[0mprint\u001b[0m\u001b[0;34m(\u001b[0m\u001b[0;34m'Counting Fibonacci sequence with starting letters -> 1'\u001b[0m\u001b[0;34m)\u001b[0m \u001b[0;31m# Confirmation of the starting of the fibonacci sequence\u001b[0m\u001b[0;34m\u001b[0m\u001b[0;34m\u001b[0m\u001b[0m\n\u001b[1;32m     12\u001b[0m \u001b[0;34m\u001b[0m\u001b[0m\n",
            "\u001b[0;31mNameError\u001b[0m: name 'AskNum' is not defined"
          ]
        }
      ]
    },
    {
      "cell_type": "code",
      "source": [
        "# Problem 3 :\n",
        "# Write a python program to find if the given string is symmetrical or not and if it is symmetrical then find the length of the string and print the triangular pattern of it.\n",
        "\n",
        "First_Half = '' # Stores first half of the string taken using [:Middle_Index]\n",
        "Last_Half = '' # Stores Last half of the string taken using [Middle_Index:] if the length of the string is even or [Middle_Index + 1:] if the length of the string is odd\n",
        "Reversed_Last_Half = '' # Stores reversed version of the last half of the string\n",
        "Middle_Index = 0 # Stores the index that determines the middle of the string.\n",
        "String = input('Please input a string\\n=> ') # Stores the inputted string text from the user\n",
        "\n",
        "if len(String) % 2 == 1 : # Determines if the string's length is even or odd\n",
        "  Middle_Index = int((len(String) - 1) / 2) # Calculates the index of the middle string for a string with an odd length\n",
        "  Last_Half = String[Middle_Index + 1:] # Cuts the last half of the string for a string with an odd length\n",
        "\n",
        "else :\n",
        "  Middle_Index = int(len(String) / 2) # Calculates the index of the middle string for a string with an even length\n",
        "  Last_Half = String[Middle_Index:] # Cuts the last half of the string for a string with an even length\n",
        "\n",
        "First_Half = String[:Middle_Index] # Cuts the first half of the string\n",
        "\n",
        "for x in Last_Half : # Loops for each letter in the Last_Half variable\n",
        "  Reversed_Last_Half = x + Reversed_Last_Half # Letter by letter, builds the reverse of the Last_Half string\n",
        "\n",
        "if First_Half == Reversed_Last_Half : # Checks if the reversed string of Last_Half is the same as First_Half's string. If it is then \n",
        "  print(f'The string is symmetrical :) so...\\n  => Here\\'s the length of your string {len(String)}\\n  => And here\\'s the a triangular pattern of the string\\\\/') # Results\n",
        "\n",
        "  for x in range(len(String)+1) : # The loop that generates the triangle\n",
        "    for n in range(x) : # The loop that generates a growing letters\n",
        "      print(String[n], end = ' ') # Prints a letter from the entire string\n",
        "    print(end = '\\n\\t\\t') # Creates a new line for the next step\n",
        "\n",
        "else :\n",
        "  print('Sadly the string is not symmetrical :(') # The string is not symmetrical"
      ],
      "metadata": {
        "id": "I_gwg0kPXrfZ"
      },
      "execution_count": null,
      "outputs": []
    }
  ]
}